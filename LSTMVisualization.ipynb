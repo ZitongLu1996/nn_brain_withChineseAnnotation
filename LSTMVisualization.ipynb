{
 "cells": [
  {
   "cell_type": "markdown",
   "metadata": {},
   "source": [
    "## 训练LSTM模拟一个简单记忆任务并可视化神经活动"
   ]
  },
  {
   "cell_type": "code",
   "execution_count": 3,
   "metadata": {},
   "outputs": [],
   "source": [
    "import numpy as np\n",
    "\n",
    "\"\"\" 生成记忆任务的输入与输出的函数 \"\"\"\n",
    "\n",
    "def memory_task(seq_len, batch_size, n_repeat=1):\n",
    "\n",
    "    # 初始化输入和输出序列\n",
    "    # inputs的数据格式: [seq_len * n_repeat, batch_size, 3]\n",
    "    # seq_len * n_repeat 为一个trial的时间点数量\n",
    "    # 之所以seq_len * n_repeat是想表示每seq_len这么长的时间里会进行一次记忆与一次反应\n",
    "    # 整个trial共进行n_repeat次记忆+反应\n",
    "    # batch_size 为trial的数量\n",
    "    # 3代表3种输入units, 分别为stimulus unit、memorize unit、report unit\n",
    "    # 分别代表视觉输入、要求记忆处、要求反应处\n",
    "    inputs = np.zeros((seq_len * n_repeat, batch_size, 3))\n",
    "    outputs = np.zeros((seq_len * n_repeat, batch_size, 1))\n",
    "\n",
    "    # 对一个trial(batch)中的每个seq_len(共n_repeat个)进行迭代\n",
    "    for i in range(n_repeat):\n",
    "        # 当前seq的开始时间\n",
    "        t_start = i * seq_len\n",
    "        # 生成随机的stimulus序列\n",
    "        inputs[t_start:t_start + seq_len, :, 0] = np.random.uniform(-1, 1, size=(seq_len, batch_size))\n",
    "        # 随机选取seq中一个时间点作为要求记忆处\n",
    "        t_stim = np.random.randint(int(seq_len) / 2, size=(batch_size,))\n",
    "        # 随机选取seq中一个时间点作为要求反应处\n",
    "        t_test = np.random.randint(int(seq_len) / 2, seq_len - 1, size=(batch_size,))\n",
    "        # 生成memorize序列(要求记忆处值为1，其他时间点为0)\n",
    "        inputs[t_start + t_stim, range(batch_size), 1] = 1\n",
    "        # 生成report序列(要求反应处值为1，其他时间点为0)\n",
    "        inputs[t_start + t_test, range(batch_size), 2] = 1\n",
    "        # 生成output序列，output对应反应时刻对记忆项的反应，\n",
    "        # 即在反应时刻与对应seq_len中的stimulus序列中记忆时刻的值一致\n",
    "        outputs[t_start + t_test, range(batch_size), 0] = inputs[t_start + t_stim, range(batch_size), 0]\n",
    "\n",
    "    return inputs, outputs"
   ]
  },
  {
   "cell_type": "code",
   "execution_count": 4,
   "metadata": {},
   "outputs": [
    {
     "data": {
      "image/png": "[encoded data removed]",
      "text/plain": [
       "<Figure size 432x288 with 1 Axes>"
      ]
     },
     "metadata": {
      "needs_background": "light"
     },
     "output_type": "display_data"
    },
    {
     "data": {
      "image/png": "[encoded data removed]",
      "text/plain": [
       "<Figure size 432x288 with 1 Axes>"
      ]
     },
     "metadata": {
      "needs_background": "light"
     },
     "output_type": "display_data"
    }
   ],
   "source": [
    "\"\"\" 绘制一下输入输出序列 \"\"\"\n",
    "\n",
    "import matplotlib.pyplot as plt\n",
    "\n",
    "# 通过上述函数生成输入输出序列\n",
    "inputs, outputs = memory_task(seq_len=20, batch_size=32, n_repeat=3)\n",
    "\n",
    "# 绘制输入序列(包含三种Unit)\n",
    "plt.figure()\n",
    "plt.imshow(inputs[:, 0, :].T, aspect='auto', vmin=-3, vmax=3, cmap='RdBu')\n",
    "plt.title('Sample trial inputs')\n",
    "plt.xlabel('Time step')\n",
    "plt.ylabel('Input units')\n",
    "plt.yticks([0, 1, 2])\n",
    "\n",
    "# 绘制输出序列\n",
    "plt.figure()\n",
    "plt.imshow(outputs[:, 0, :].T, aspect='auto', vmin=-3, vmax=3, cmap='RdBu')\n",
    "plt.title('Sample trial target')\n",
    "plt.xlabel('Time step')\n",
    "plt.ylabel('Output unit')\n",
    "plt.yticks([0])\n",
    "\n",
    "plt.show()"
   ]
  },
  {
   "cell_type": "markdown",
   "metadata": {},
   "source": [
    "###  定义一个LSTM network"
   ]
  },
  {
   "cell_type": "code",
   "execution_count": 5,
   "metadata": {},
   "outputs": [],
   "source": [
    "from collections import defaultdict\n",
    "import torch\n",
    "import torch.nn as nn\n",
    "\n",
    "class MyLSTM(nn.Module):\n",
    "\n",
    "    # 构造函数\n",
    "    def __init__(self, input_size, hidden_size):\n",
    "        # 调用父类构造函数\n",
    "        super().__init__()\n",
    "\n",
    "        # 输入数据的维数\n",
    "        self.input_size = input_size\n",
    "        # 输入隐藏层的维数\n",
    "        self.hidden_size = hidden_size\n",
    "        # 根据LSTM网络特点，有4个隐含层\n",
    "        # 输入到进入隐藏层，数据通过input_size到4*hidden_size线性变换\n",
    "        self.input2h = nn.Linear(input_size, 4 * hidden_size)\n",
    "        # 隐藏层自连接过程，数据通过hidden_size到4*hidden_size线性变换\n",
    "        self.h2h = nn.Linear(hidden_size, 4 * hidden_size)\n",
    "        # readout参数记录是否读出活动\n",
    "        self.readout = False  # whether to readout activity\n",
    "\n",
    "    # 帮助循环计算的一个函数\n",
    "    # input的shape为[number_of_times, batch_size, input_size]\n",
    "    # hidden包含隐层状态和细胞状态两个部分, 对应hx和cx\n",
    "    # hx代表根据当前时刻的输入和上一时刻的状态产生的当前时刻的状态值\n",
    "    # cx代表当前hx中的每个神经元是否会影响下一时刻神经元处理\n",
    "    # hx和cx的shape均为[batch_size, hidden_size]\n",
    "    def recurrence(self, input, hidden):\n",
    "\n",
    "        # 提取当前时刻的h和c\n",
    "        hx, cx = hidden\n",
    "        # gates由两个部分组成\n",
    "        gates = self.input2h(input) + self.h2h(hx)\n",
    "        # 分为4个gates成分\n",
    "        # 分别对应input、forget、cell和output\n",
    "        ingate, forgetgate, cellgate, outgate = gates.chunk(4, dim=1)\n",
    "        # 为gates设置激活函数\n",
    "        # LSTM里面包含四种gates，分别为input gate、forget gate、cell gate和output gate\n",
    "        ingate = torch.sigmoid(ingate)\n",
    "        forgetgate = torch.sigmoid(forgetgate)\n",
    "        cellgate = torch.tanh(cellgate)\n",
    "        outgate = torch.sigmoid(outgate)\n",
    "        # 计算下一时刻的c和h\n",
    "        cy = (forgetgate * cx) + (ingate * cellgate)\n",
    "        hy = outgate * torch.tanh(cy)\n",
    "\n",
    "        # 当readout为True的时候将网络中的各种activity信息保存在result变量中\n",
    "        if self.readout:\n",
    "            result = {\n",
    "                'ingate': ingate,\n",
    "                'outgate': outgate,\n",
    "                'forgetgate': forgetgate,\n",
    "                'input': cellgate,\n",
    "                'cell': cy,\n",
    "                'output': hy,\n",
    "            }\n",
    "            return (hy, cy), result\n",
    "        else:\n",
    "            return hy, cy\n",
    "\n",
    "    # 实现LSTM内部连接功能\n",
    "    def forward(self, input, hidden=None):\n",
    "        # 获取batch_size\n",
    "        batch_size = input.shape[1]\n",
    "        # 初始化hidden\n",
    "        hidden = (torch.zeros(batch_size, self.hidden_size).to(input.device),\n",
    "                  torch.zeros(batch_size, self.hidden_size).to(input.device))\n",
    "\n",
    "        # 当readout为False时，仅返回output和hidden\n",
    "        # 当readout为True时，返回output、hidden和result\n",
    "        if not self.readout:\n",
    "            output = []\n",
    "            for i in range(input.size(0)):\n",
    "                hidden = self.recurrence(input[i], hidden)\n",
    "                output.append(hidden[0])\n",
    "\n",
    "            # 使用torch.stack函数把结果进行拼接\n",
    "            output = torch.stack(output, dim=0)\n",
    "            return output, hidden\n",
    "\n",
    "        else:\n",
    "            output = []\n",
    "            result = defaultdict(list)  # dictionary with default as a list\n",
    "            for i in range(input.size(0)):\n",
    "                hidden, res = self.recurrence(input[i], hidden)\n",
    "                output.append(hidden[0])\n",
    "                for key, val in res.items():\n",
    "                    result[key].append(val)\n",
    "\n",
    "            output = torch.stack(output, dim=0)\n",
    "            for key, val in result.items():\n",
    "                result[key] = torch.stack(val, dim=0)\n",
    "\n",
    "            return output, hidden, result\n",
    "    \n",
    "\"\"\" 定义一个RNN(基于LSTM) \"\"\"\n",
    "\n",
    "class Net(nn.Module):\n",
    "\n",
    "    def __init__(self, input_size, hidden_size, output_size, **kwargs):\n",
    "        super().__init__()\n",
    "\n",
    "        self.rnn = MyLSTM(input_size, hidden_size, **kwargs)\n",
    "        # 在LSTM的基础上加上了隐藏层到输出之间的全连接\n",
    "        self.fc = nn.Linear(hidden_size, output_size)\n",
    "\n",
    "    def forward(self, x):\n",
    "        rnn_activity, _ = self.rnn(x)\n",
    "        out = self.fc(rnn_activity)\n",
    "        # 返回最终RNN的输出和LSTM的输出(即这里的rnn_activity)\n",
    "        return out, rnn_activity"
   ]
  },
  {
   "cell_type": "markdown",
   "metadata": {},
   "source": [
    "### 训练LSTM"
   ]
  },
  {
   "cell_type": "code",
   "execution_count": 6,
   "metadata": {},
   "outputs": [
    {
     "name": "stdout",
     "output_type": "stream",
     "text": [
      "Step 500, Loss 0.0367\n",
      "Step 1000, Loss 0.0308\n",
      "Step 1500, Loss 0.0090\n",
      "Step 2000, Loss 0.0014\n",
      "Step 2500, Loss 0.0006\n",
      "Step 3000, Loss 0.0005\n",
      "Step 3500, Loss 0.0003\n",
      "Step 4000, Loss 0.0004\n",
      "Step 4500, Loss 0.0002\n",
      "Step 5000, Loss 0.0002\n",
      "Step 5500, Loss 0.0003\n",
      "Step 6000, Loss 0.0002\n",
      "Step 6500, Loss 0.0002\n",
      "Step 7000, Loss 0.0002\n",
      "Step 7500, Loss 0.0004\n",
      "Step 8000, Loss 0.0003\n",
      "Step 8500, Loss 0.0001\n",
      "Step 9000, Loss 0.0002\n",
      "Step 9500, Loss 0.0004\n",
      "Step 10000, Loss 0.0002\n",
      "Step 10500, Loss 0.0002\n",
      "Step 11000, Loss 0.0002\n",
      "Step 11500, Loss 0.0002\n",
      "Step 12000, Loss 0.0004\n",
      "Step 12500, Loss 0.0001\n",
      "Step 13000, Loss 0.0002\n",
      "Step 13500, Loss 0.0002\n",
      "Step 14000, Loss 0.0002\n",
      "Step 14500, Loss 0.0003\n",
      "Step 15000, Loss 0.0003\n",
      "Step 15500, Loss 0.0002\n",
      "Step 16000, Loss 0.0002\n",
      "Step 16500, Loss 0.0002\n",
      "Step 17000, Loss 0.0001\n",
      "Step 17500, Loss 0.0001\n",
      "Step 18000, Loss 0.0005\n",
      "Step 18500, Loss 0.0001\n",
      "Step 19000, Loss 0.0003\n",
      "Step 19500, Loss 0.0002\n",
      "Step 20000, Loss 0.0002\n"
     ]
    }
   ],
   "source": [
    "import torch.optim as optim\n",
    "\n",
    "# 初始化RNN，设置相关参数\n",
    "net = Net(input_size=3, hidden_size=1, output_size=1)\n",
    "\n",
    "# 使用Adam优化器\n",
    "optimizer = optim.Adam(net.parameters(), lr=0.01)\n",
    "criterion = nn.MSELoss()\n",
    "\n",
    "# 定义loss\n",
    "running_loss = 0\n",
    "\n",
    "# 定义打印步长，即每训练500步输出一次loss\n",
    "print_step = 500\n",
    "\n",
    "# 进行20000次迭代训练\n",
    "for i in range(20000):\n",
    "    # 生成一个随机长度的时间序列\n",
    "    seq_len = np.random.randint(5, 20)\n",
    "    # 生成实验条件对应的输入与输出\n",
    "    inputs, labels = memory_task(seq_len=seq_len, batch_size=16, n_repeat=3)\n",
    "    # 把输入输出数据转成torch格式\n",
    "    inputs = torch.from_numpy(inputs).type(torch.float)\n",
    "    labels = torch.from_numpy(labels).type(torch.float)\n",
    "\n",
    "    # 梯度初始化为0\n",
    "    optimizer.zero_grad()   # zero the gradient buffers\n",
    "    # 该次迭代下的网络输出\n",
    "    output, activity = net(inputs)\n",
    "\n",
    "    # 该次迭代的loss\n",
    "    loss = criterion(output, labels)\n",
    "    # 反向传播\n",
    "    loss.backward()\n",
    "    # 更新权重\n",
    "    optimizer.step()    # Does the update\n",
    "\n",
    "    # 获取累计loss\n",
    "    running_loss += loss.item()\n",
    "    # 每print_step步打印一次平均loss\n",
    "    if i % print_step == (print_step - 1):\n",
    "        running_loss /= print_step\n",
    "        print('Step {}, Loss {:0.4f}'.format(i+1, running_loss))\n",
    "        if running_loss < 1e-4:\n",
    "            break\n",
    "        running_loss = 0"
   ]
  },
  {
   "cell_type": "markdown",
   "metadata": {},
   "source": [
    "### 模型测试"
   ]
  },
  {
   "cell_type": "code",
   "execution_count": 7,
   "metadata": {},
   "outputs": [],
   "source": [
    "# 调用训练后的RNN\n",
    "rnn = net.rnn\n",
    "\n",
    "# 将RNN的readout参数设为True\n",
    "rnn.readout = True\n",
    "\n",
    "# 生成一串任务条件对应的输入输出\n",
    "# seq_len=50\n",
    "inputs, labels = memory_task(seq_len=20, batch_size=32, n_repeat=3)\n",
    "inputs = torch.from_numpy(inputs).type(torch.float)\n",
    "\n",
    "# 强制不进行反向传播时的自动求导\n",
    "# 当然\"with torch.no_grad()\"不影响结果，但是能节约显存\n",
    "with torch.no_grad():\n",
    "    # 获取LSTM的返回结果以及经过一个全连接后的最终输出结果\n",
    "    rnn_activity, _, result = rnn(inputs)\n",
    "    outputs = net.fc(rnn_activity).detach()"
   ]
  },
  {
   "cell_type": "markdown",
   "metadata": {},
   "source": [
    "### 可视化神经活动"
   ]
  },
  {
   "cell_type": "code",
   "execution_count": 8,
   "metadata": {},
   "outputs": [
    {
     "data": {
      "image/png": "[encoded data removed]",
      "text/plain": [
       "<Figure size 432x288 with 1 Axes>"
      ]
     },
     "metadata": {
      "needs_background": "light"
     },
     "output_type": "display_data"
    },
    {
     "data": {
      "image/png": "[encoded data removed]",
      "text/plain": [
       "<Figure size 432x288 with 1 Axes>"
      ]
     },
     "metadata": {
      "needs_background": "light"
     },
     "output_type": "display_data"
    },
    {
     "data": {
      "image/png": "[encoded data removed]",
      "text/plain": [
       "<Figure size 432x288 with 1 Axes>"
      ]
     },
     "metadata": {
      "needs_background": "light"
     },
     "output_type": "display_data"
    }
   ],
   "source": [
    "# 对结果绘制\n",
    "inputs = inputs.numpy()\n",
    "outputs = outputs.numpy()\n",
    "i_trial = 0\n",
    "plt.figure()\n",
    "plt.imshow(inputs[:, i_trial, :].T, aspect='auto', cmap='winter')\n",
    "\n",
    "plt.figure()\n",
    "plt.plot(labels[:, i_trial, 0], label='target')\n",
    "plt.plot(outputs[:, i_trial, 0], label='output')\n",
    "plt.legend()\n",
    "\n",
    "plt.figure()\n",
    "plt.plot(result['ingate'].numpy()[:, i_trial, 0], label='input')\n",
    "plt.plot(result['outgate'].numpy()[:, i_trial, 0], label='output')\n",
    "plt.plot(result['forgetgate'].numpy()[:, i_trial, 0], label='forget')\n",
    "plt.legend(title='gate')\n",
    "plt.show()"
   ]
  }
 ],
 "metadata": {
  "kernelspec": {
   "display_name": "Python 3",
   "language": "python",
   "name": "python3"
  },
  "language_info": {
   "codemirror_mode": {
    "name": "ipython",
    "version": 3
   },
   "file_extension": ".py",
   "mimetype": "text/x-python",
   "name": "python",
   "nbconvert_exporter": "python",
   "pygments_lexer": "ipython3",
   "version": "3.7.2"
  }
 },
 "nbformat": 4,
 "nbformat_minor": 4
}
